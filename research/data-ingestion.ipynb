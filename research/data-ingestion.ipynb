{
 "cells": [
  {
   "cell_type": "code",
   "execution_count": 2,
   "id": "5cdd7a7c",
   "metadata": {},
   "outputs": [],
   "source": [
    "from pathlib import Path\n",
    "from typing import Iterable, List\n",
    "from langchain_core.documents import Document\n",
    "from langchain_community.document_loaders import PyPDFLoader, TextLoader, Docx2txtLoader\n",
    "from fastapi import UploadFile\n",
    "\n"
   ]
  },
  {
   "cell_type": "code",
   "execution_count": 3,
   "metadata": {},
   "outputs": [],
   "source": [
    "SUPPORTED_EXTENSIONS = {\".pdf\", \".docx\", \".txt\"}"
   ]
  },
  {
   "cell_type": "code",
   "execution_count": 11,
   "metadata": {},
   "outputs": [],
   "source": [
    "def load_documents(paths: Iterable[Path]) -> List[Document]:\n",
    "    print(\"documents loading ...\")\n",
    "    print(f\"documents about to load \\n {str(paths)}\")\n",
    "\n",
    "    docs: List[Document] = []\n",
    "\n",
    "    try:\n",
    "        for path in paths:\n",
    "            ext = path.suffix.lower()\n",
    "            print(f\"trying to load {path} with {ext}\")\n",
    "            if ext == \".pdf\":\n",
    "                loader = PyPDFLoader(str(path))\n",
    "            elif ext == \".docx\":\n",
    "                loader = Docx2txtLoader(str(path))\n",
    "            elif ext == \".txt\":\n",
    "                loader = TextLoader(str(path), encoding=\"utf-8\")\n",
    "            else:\n",
    "                print(f\"Unsupported extension skipped, path={str(path)}\")\n",
    "                continue\n",
    "            docs.extend(loader.load())\n",
    "            print(docs)\n",
    "        print(f\"{len(docs)} Documents loaded\")\n",
    "    except Exception as e:\n",
    "        print(f\"Failed loading documents, error={str(e)}\")\n",
    "\n",
    "    "
   ]
  },
  {
   "cell_type": "code",
   "execution_count": 12,
   "metadata": {},
   "outputs": [
    {
     "name": "stdout",
     "output_type": "stream",
     "text": [
      "documents loading ...\n",
      "documents about to load \n",
      " [WindowsPath('E:/Project/MCQ-Generator/test_data/test.txt')]\n",
      "trying to load E:\\Project\\MCQ-Generator\\test_data\\test.txt with .txt\n",
      "[Document(metadata={'source': 'E:\\\\Project\\\\MCQ-Generator\\\\test_data\\\\test.txt'}, page_content='some test data here\\n')]\n",
      "1 Documents loaded\n"
     ]
    }
   ],
   "source": [
    "test_files = [Path(\"E:/Project/MCQ-Generator/test_data/test.txt\")]\n",
    "load_documents(test_files)\n",
    "    "
   ]
  },
  {
   "cell_type": "code",
   "execution_count": 14,
   "metadata": {},
   "outputs": [],
   "source": [
    "import uuid\n",
    "import re\n",
    "from pathlib import Path\n",
    "from typing import Iterable, List\n",
    "\n",
    "\n",
    "SUPPORTED_EXTENSIONS = {\".pdf\", \".docx\", \".txt\", \".pptx\", \".md\", \".csv\", \".xlsx\", \".xls\", \".db\", \".sqlite\", \".sqlite3\"}"
   ]
  },
  {
   "cell_type": "code",
   "execution_count": null,
   "metadata": {},
   "outputs": [],
   "source": [
    "def save_uploaded_files(uploaded_files: Iterable, target_dir: Path) -> List[Path]:\n",
    "\n",
    "    target_dir.mkdir(parents=True, exist_ok=True)\n",
    "    saved: list[Path] = []\n",
    "\n",
    "    for uf in uploaded_file\n",
    "\n",
    "\n",
    "\n",
    "\n",
    "\n",
    "\n",
    "\n",
    "\n",
    "\n",
    "\n",
    "\n"
   ]
  },
  {
   "cell_type": "code",
   "execution_count": null,
   "metadata": {},
   "outputs": [],
   "source": []
  },
  {
   "cell_type": "code",
   "execution_count": null,
   "metadata": {},
   "outputs": [],
   "source": []
  },
  {
   "cell_type": "code",
   "execution_count": null,
   "id": "7404b509",
   "metadata": {},
   "outputs": [],
   "source": []
  },
  {
   "cell_type": "code",
   "execution_count": null,
   "metadata": {},
   "outputs": [],
   "source": []
  },
  {
   "cell_type": "code",
   "execution_count": null,
   "metadata": {},
   "outputs": [],
   "source": []
  }
 ],
 "metadata": {
  "kernelspec": {
   "display_name": ".venv",
   "language": "python",
   "name": "python3"
  },
  "language_info": {
   "codemirror_mode": {
    "name": "ipython",
    "version": 3
   },
   "file_extension": ".py",
   "mimetype": "text/x-python",
   "name": "python",
   "nbconvert_exporter": "python",
   "pygments_lexer": "ipython3",
   "version": "3.11.0"
  }
 },
 "nbformat": 4,
 "nbformat_minor": 5
}
